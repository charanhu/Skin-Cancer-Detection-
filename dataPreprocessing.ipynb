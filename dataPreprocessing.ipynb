{
  "nbformat": 4,
  "nbformat_minor": 0,
  "metadata": {
    "colab": {
      "name": "dataPreprocessing.ipynb",
      "provenance": []
    },
    "kernelspec": {
      "name": "python3",
      "display_name": "Python 3"
    }
  },
  "cells": [
    {
      "cell_type": "code",
      "metadata": {
        "id": "3hn311GAzbvb"
      },
      "source": [
        "!pip install kaggle"
      ],
      "execution_count": null,
      "outputs": []
    },
    {
      "cell_type": "code",
      "metadata": {
        "id": "rYHGobdv0XWN"
      },
      "source": [
        "from google.colab import files\r\n",
        "files.upload()"
      ],
      "execution_count": null,
      "outputs": []
    },
    {
      "cell_type": "code",
      "metadata": {
        "id": "VXQ55zAi1CPu"
      },
      "source": [
        "!mkdir -p ~/.kaggle\r\n",
        "!cp kaggle.json ~/.kaggle/\r\n",
        "\r\n",
        "!chmod 600 ~/.kaggle/kaggle.json"
      ],
      "execution_count": null,
      "outputs": []
    },
    {
      "cell_type": "code",
      "metadata": {
        "id": "JL5QaBX_1WBF"
      },
      "source": [
        "!kaggle datasets download -d kmader/skin-cancer-mnist-ham10000"
      ],
      "execution_count": null,
      "outputs": []
    },
    {
      "cell_type": "code",
      "metadata": {
        "id": "mYB_DEW727y_"
      },
      "source": [
        "import os\r\n",
        "import pandas as pd\r\n",
        "import numpy as np\r\n",
        "from sklearn.model_selection import train_test_split\r\n",
        "from PIL import Image\r\n",
        "import shutil"
      ],
      "execution_count": null,
      "outputs": []
    },
    {
      "cell_type": "code",
      "metadata": {
        "id": "vnh1KhNl2713"
      },
      "source": [
        "classes= ['nv','mel','bkl','bcc','akiec','vasc','df']\r\n",
        "base_dir=\"dataSet\"\r\n",
        "try:\r\n",
        "    os.mkdir(base_dir)\r\n",
        "except:\r\n",
        "        pass"
      ],
      "execution_count": null,
      "outputs": []
    },
    {
      "cell_type": "code",
      "metadata": {
        "id": "IY_Zo2iQ274f"
      },
      "source": [
        "train_dir=\"train_dir\"\r\n",
        "test_dir=\"test_dir\"\r\n",
        "try:\r\n",
        "    for i in classes:\r\n",
        "        os.makedirs(os.path.join(os.getcwd(),base_dir,train_dir,i))\r\n",
        "except:\r\n",
        "    pass\r\n",
        "\r\n",
        "try:\r\n",
        "    for i in classes:\r\n",
        "        os.makedirs(os.path.join(os.getcwd(),base_dir,test_dir,i))\r\n",
        "except:\r\n",
        "    pass"
      ],
      "execution_count": null,
      "outputs": []
    },
    {
      "cell_type": "code",
      "metadata": {
        "colab": {
          "base_uri": "https://localhost:8080/",
          "height": 195
        },
        "id": "SRl7RFIl2793",
        "outputId": "b85c16ca-a24e-4515-803f-8da111f2dcec"
      },
      "source": [
        "df=pd.read_csv(r\"/content/HAM10000_metadata.csv\")\r\n",
        "df.head()"
      ],
      "execution_count": null,
      "outputs": [
        {
          "output_type": "execute_result",
          "data": {
            "text/html": [
              "<div>\n",
              "<style scoped>\n",
              "    .dataframe tbody tr th:only-of-type {\n",
              "        vertical-align: middle;\n",
              "    }\n",
              "\n",
              "    .dataframe tbody tr th {\n",
              "        vertical-align: top;\n",
              "    }\n",
              "\n",
              "    .dataframe thead th {\n",
              "        text-align: right;\n",
              "    }\n",
              "</style>\n",
              "<table border=\"1\" class=\"dataframe\">\n",
              "  <thead>\n",
              "    <tr style=\"text-align: right;\">\n",
              "      <th></th>\n",
              "      <th>lesion_id</th>\n",
              "      <th>image_id</th>\n",
              "      <th>dx</th>\n",
              "      <th>dx_type</th>\n",
              "      <th>age</th>\n",
              "      <th>sex</th>\n",
              "      <th>localization</th>\n",
              "    </tr>\n",
              "  </thead>\n",
              "  <tbody>\n",
              "    <tr>\n",
              "      <th>0</th>\n",
              "      <td>HAM_0000118</td>\n",
              "      <td>ISIC_0027419</td>\n",
              "      <td>bkl</td>\n",
              "      <td>histo</td>\n",
              "      <td>80.0</td>\n",
              "      <td>male</td>\n",
              "      <td>scalp</td>\n",
              "    </tr>\n",
              "    <tr>\n",
              "      <th>1</th>\n",
              "      <td>HAM_0000118</td>\n",
              "      <td>ISIC_0025030</td>\n",
              "      <td>bkl</td>\n",
              "      <td>histo</td>\n",
              "      <td>80.0</td>\n",
              "      <td>male</td>\n",
              "      <td>scalp</td>\n",
              "    </tr>\n",
              "    <tr>\n",
              "      <th>2</th>\n",
              "      <td>HAM_0002730</td>\n",
              "      <td>ISIC_0026769</td>\n",
              "      <td>bkl</td>\n",
              "      <td>histo</td>\n",
              "      <td>80.0</td>\n",
              "      <td>male</td>\n",
              "      <td>scalp</td>\n",
              "    </tr>\n",
              "    <tr>\n",
              "      <th>3</th>\n",
              "      <td>HAM_0002730</td>\n",
              "      <td>ISIC_0025661</td>\n",
              "      <td>bkl</td>\n",
              "      <td>histo</td>\n",
              "      <td>80.0</td>\n",
              "      <td>male</td>\n",
              "      <td>scalp</td>\n",
              "    </tr>\n",
              "    <tr>\n",
              "      <th>4</th>\n",
              "      <td>HAM_0001466</td>\n",
              "      <td>ISIC_0031633</td>\n",
              "      <td>bkl</td>\n",
              "      <td>histo</td>\n",
              "      <td>75.0</td>\n",
              "      <td>male</td>\n",
              "      <td>ear</td>\n",
              "    </tr>\n",
              "  </tbody>\n",
              "</table>\n",
              "</div>"
            ],
            "text/plain": [
              "     lesion_id      image_id   dx dx_type   age   sex localization\n",
              "0  HAM_0000118  ISIC_0027419  bkl   histo  80.0  male        scalp\n",
              "1  HAM_0000118  ISIC_0025030  bkl   histo  80.0  male        scalp\n",
              "2  HAM_0002730  ISIC_0026769  bkl   histo  80.0  male        scalp\n",
              "3  HAM_0002730  ISIC_0025661  bkl   histo  80.0  male        scalp\n",
              "4  HAM_0001466  ISIC_0031633  bkl   histo  75.0  male          ear"
            ]
          },
          "metadata": {
            "tags": []
          },
          "execution_count": 43
        }
      ]
    },
    {
      "cell_type": "code",
      "metadata": {
        "id": "A_prPqHh28C8"
      },
      "source": [
        "y=df.dx\r\n",
        "df_train,df_test=train_test_split(df,test_size=0.1,random_state=100,stratify=y)"
      ],
      "execution_count": null,
      "outputs": []
    },
    {
      "cell_type": "code",
      "metadata": {
        "colab": {
          "base_uri": "https://localhost:8080/"
        },
        "id": "wnBwhCb028Fl",
        "outputId": "b86c9541-e28a-41c6-f06d-632d790dd136"
      },
      "source": [
        "print(df_train.shape)\r\n",
        "print(df_test.shape)"
      ],
      "execution_count": null,
      "outputs": [
        {
          "output_type": "stream",
          "text": [
            "(9013, 7)\n",
            "(1002, 7)\n"
          ],
          "name": "stdout"
        }
      ]
    },
    {
      "cell_type": "code",
      "metadata": {
        "colab": {
          "base_uri": "https://localhost:8080/"
        },
        "id": "zKr9mQtM28Jb",
        "outputId": "aa0b95c5-de57-453a-e315-07a5c843d03a"
      },
      "source": [
        "df_train['dx'].value_counts()"
      ],
      "execution_count": null,
      "outputs": [
        {
          "output_type": "execute_result",
          "data": {
            "text/plain": [
              "nv       6034\n",
              "mel      1002\n",
              "bkl       989\n",
              "bcc       463\n",
              "akiec     294\n",
              "vasc      128\n",
              "df        103\n",
              "Name: dx, dtype: int64"
            ]
          },
          "metadata": {
            "tags": []
          },
          "execution_count": 46
        }
      ]
    },
    {
      "cell_type": "code",
      "metadata": {
        "colab": {
          "base_uri": "https://localhost:8080/"
        },
        "id": "J9vafdmq-yL7",
        "outputId": "64c90bcd-29e9-4115-f75d-92595947ee10"
      },
      "source": [
        "df_test['dx'].value_counts()"
      ],
      "execution_count": null,
      "outputs": [
        {
          "output_type": "execute_result",
          "data": {
            "text/plain": [
              "nv       671\n",
              "mel      111\n",
              "bkl      110\n",
              "bcc       51\n",
              "akiec     33\n",
              "vasc      14\n",
              "df        12\n",
              "Name: dx, dtype: int64"
            ]
          },
          "metadata": {
            "tags": []
          },
          "execution_count": 47
        }
      ]
    },
    {
      "cell_type": "code",
      "metadata": {
        "id": "ksZPHjIn-2i4"
      },
      "source": [
        "all_img=list(df.image_id)\r\n",
        "train_img=list(df_train.image_id)\r\n",
        "test_img=list(df_train.image_id)"
      ],
      "execution_count": null,
      "outputs": []
    },
    {
      "cell_type": "code",
      "metadata": {
        "id": "dGB_wx7S-2xU"
      },
      "source": [
        "df.set_index('image_id', inplace=True)"
      ],
      "execution_count": null,
      "outputs": []
    },
    {
      "cell_type": "code",
      "metadata": {
        "id": "zL6DX2op-3AN"
      },
      "source": [
        "folder_1 = os.listdir(r'/content/HAM10000_images_part_1')\r\n",
        "folder_2 = os.listdir(r'/content/HAM10000_images_part_2')"
      ],
      "execution_count": null,
      "outputs": []
    },
    {
      "cell_type": "code",
      "metadata": {
        "id": "UOQ0avl1-3Ow"
      },
      "source": [
        "for imgs in all_img:\r\n",
        "    full_imgname=imgs+'.jpg'\r\n",
        "    if imgs in train_img:\r\n",
        "        sub_dir=train_dir\r\n",
        "    else:\r\n",
        "        sub_dir=test_dir\r\n",
        "    if full_imgname in folder_1:\r\n",
        "        source_dir=os.path.join(r'/content/HAM10000_images_part_1',full_imgname)\r\n",
        "    else:\r\n",
        "        source_dir=os.path.join(r'/content/HAM10000_images_part_2',full_imgname)       \r\n",
        "    label=df.loc[imgs,'dx']\r\n",
        "    final_dir=os.path.join(os.getcwd(),base_dir,sub_dir,label,full_imgname)\r\n",
        "    shutil.copyfile(source_dir, final_dir)"
      ],
      "execution_count": null,
      "outputs": []
    },
    {
      "cell_type": "code",
      "metadata": {
        "id": "qqBLI2Yz-yP7"
      },
      "source": [
        "img_save=Image.open(\"/content/HAM10000_images_part_1/ISIC_0027419.jpg\")"
      ],
      "execution_count": null,
      "outputs": []
    },
    {
      "cell_type": "code",
      "metadata": {
        "id": "2flws91f-yWG"
      },
      "source": [
        ""
      ],
      "execution_count": null,
      "outputs": []
    },
    {
      "cell_type": "code",
      "metadata": {
        "id": "NYj4cEFF-ya7"
      },
      "source": [
        "#model.ipynb"
      ],
      "execution_count": null,
      "outputs": []
    },
    {
      "cell_type": "code",
      "metadata": {
        "id": "CgVbOfzs-ych"
      },
      "source": [
        "\r\n",
        "import os\r\n",
        "import pandas as pd\r\n",
        "import numpy as np\r\n",
        "from sklearn.model_selection import train_test_split\r\n",
        "from PIL import Image\r\n",
        "import shutil\r\n",
        "import cv2\r\n",
        "import matplotlib.pyplot as plt"
      ],
      "execution_count": null,
      "outputs": []
    },
    {
      "cell_type": "code",
      "metadata": {
        "id": "3hbwoP7qFZcH"
      },
      "source": [
        "from keras.utils import to_categorical\r\n",
        "from keras.models import Sequential\r\n",
        "from keras.optimizers import Adam\r\n",
        "from keras.layers.convolutional import Conv2D,MaxPooling2D\r\n",
        "from keras.layers import Dropout,Flatten,Dense"
      ],
      "execution_count": null,
      "outputs": []
    },
    {
      "cell_type": "code",
      "metadata": {
        "id": "bp7KzIcuFZfA"
      },
      "source": [
        "classes= ['nv','mel','bkl','bcc','akiec','vasc','df']\r\n",
        "base_dir=\"dataSet\"\r\n",
        "train_dir=\"train_dir\"\r\n",
        "test_dir=\"test_dir\""
      ],
      "execution_count": null,
      "outputs": []
    },
    {
      "cell_type": "code",
      "metadata": {
        "id": "dosEr67WFZiI"
      },
      "source": [
        "x_train=[]\r\n",
        "y_train=[]\r\n",
        "\r\n",
        "for i in classes:\r\n",
        "    path=os.path.join(os.getcwd(),base_dir,train_dir,i)\r\n",
        "    f=os.listdir(path)\r\n",
        "    for imgs in f:\r\n",
        "        show_img=cv2.imread(os.path.join(path,imgs))\r\n",
        "        show_img=cv2.resize(show_img,(28,28))\r\n",
        "        x_train.append(show_img)\r\n",
        "        y_train.append(i)"
      ],
      "execution_count": null,
      "outputs": []
    },
    {
      "cell_type": "code",
      "metadata": {
        "id": "_zgHyKSfFZlN"
      },
      "source": [
        "x_train_n=np.array(x_train)\r\n",
        "y_train_n=np.array(y_train)"
      ],
      "execution_count": null,
      "outputs": []
    },
    {
      "cell_type": "code",
      "metadata": {
        "colab": {
          "base_uri": "https://localhost:8080/"
        },
        "id": "Pxk6x754FZn3",
        "outputId": "5eaadbd5-f812-4a1e-c399-8929ee2a1043"
      },
      "source": [
        "print(x_train_n.shape)\r\n",
        "print(y_train_n.shape)"
      ],
      "execution_count": null,
      "outputs": [
        {
          "output_type": "stream",
          "text": [
            "(9013, 28, 28, 3)\n",
            "(9013,)\n"
          ],
          "name": "stdout"
        }
      ]
    },
    {
      "cell_type": "code",
      "metadata": {
        "id": "iUAgpYavFZrJ"
      },
      "source": [
        "x_test=[]\r\n",
        "y_test=[]\r\n",
        "\r\n",
        "for i in classes:\r\n",
        "    path=os.path.join(os.getcwd(),base_dir,test_dir,i)\r\n",
        "    f=os.listdir(path)\r\n",
        "    for imgs in f:\r\n",
        "        show_img=cv2.imread(os.path.join(path,imgs))\r\n",
        "        show_img=cv2.resize(show_img,(28,28),interpolation=cv2.INTER_AREA)\r\n",
        "        x_test.append(show_img)\r\n",
        "        y_test.append(i)"
      ],
      "execution_count": null,
      "outputs": []
    },
    {
      "cell_type": "code",
      "metadata": {
        "id": "HbRKVvUQFZt8"
      },
      "source": [
        "x_test_n=np.array(x_test)\r\n",
        "y_test_n=np.array(y_test)"
      ],
      "execution_count": null,
      "outputs": []
    },
    {
      "cell_type": "code",
      "metadata": {
        "colab": {
          "base_uri": "https://localhost:8080/"
        },
        "id": "Xwxc2CBmFZw0",
        "outputId": "dbbef7e5-3c54-451a-b874-6d5381fb9268"
      },
      "source": [
        "print(x_test_n.shape)\r\n",
        "print(y_test_n.shape)"
      ],
      "execution_count": null,
      "outputs": [
        {
          "output_type": "stream",
          "text": [
            "(1002, 28, 28, 3)\n",
            "(1002,)\n"
          ],
          "name": "stdout"
        }
      ]
    },
    {
      "cell_type": "code",
      "metadata": {
        "id": "iCAyOeecFZzs"
      },
      "source": [
        "y_test_n =pd.get_dummies(y_test_n)\r\n",
        "y_train_n =pd.get_dummies(y_train_n)"
      ],
      "execution_count": null,
      "outputs": []
    },
    {
      "cell_type": "code",
      "metadata": {
        "colab": {
          "base_uri": "https://localhost:8080/"
        },
        "id": "AC6JDR8MFZ2d",
        "outputId": "f15682be-c731-475d-f2bf-c9f6c159d566"
      },
      "source": [
        "print(y_test_n.shape)\r\n",
        "print(y_train_n.shape)"
      ],
      "execution_count": null,
      "outputs": [
        {
          "output_type": "stream",
          "text": [
            "(1002, 7)\n",
            "(9013, 7)\n"
          ],
          "name": "stdout"
        }
      ]
    },
    {
      "cell_type": "code",
      "metadata": {
        "id": "tjjgKZiXFZ5W"
      },
      "source": [
        "def preprocess(img):\r\n",
        "    img = img/255\r\n",
        "    return img\r\n",
        "\r\n",
        "x_test_n = np.array(list(map(preprocess, x_test_n)))\r\n",
        "x_train_n = np.array(list(map(preprocess, x_train_n)))"
      ],
      "execution_count": null,
      "outputs": []
    },
    {
      "cell_type": "code",
      "metadata": {
        "colab": {
          "base_uri": "https://localhost:8080/"
        },
        "id": "sv5VfR5IFZ8J",
        "outputId": "5a0a1cb0-1d35-42e2-e49e-9e56e9375c2d"
      },
      "source": [
        "model = Sequential()\r\n",
        "model.add(Conv2D(32,(3,3),activation = 'relu', input_shape=(28,28,3)))\r\n",
        "model.add(MaxPooling2D(2,2))\r\n",
        "model.add(Conv2D(64,(3,3),activation = 'relu'))\r\n",
        "model.add(MaxPooling2D(2,2))\r\n",
        "model.add(Conv2D(128,(3,3),activation = 'relu'))\r\n",
        "model.add(MaxPooling2D(2,2))\r\n",
        "\r\n",
        "model.add(Flatten())\r\n",
        "\r\n",
        "model.add(Dense(512,activation='sigmoid'))\r\n",
        "model.add(Dense(7,activation='softmax'))\r\n",
        "\r\n",
        "print(model.summary())"
      ],
      "execution_count": null,
      "outputs": [
        {
          "output_type": "stream",
          "text": [
            "Model: \"sequential\"\n",
            "_________________________________________________________________\n",
            "Layer (type)                 Output Shape              Param #   \n",
            "=================================================================\n",
            "conv2d (Conv2D)              (None, 26, 26, 32)        896       \n",
            "_________________________________________________________________\n",
            "max_pooling2d (MaxPooling2D) (None, 13, 13, 32)        0         \n",
            "_________________________________________________________________\n",
            "conv2d_1 (Conv2D)            (None, 11, 11, 64)        18496     \n",
            "_________________________________________________________________\n",
            "max_pooling2d_1 (MaxPooling2 (None, 5, 5, 64)          0         \n",
            "_________________________________________________________________\n",
            "conv2d_2 (Conv2D)            (None, 3, 3, 128)         73856     \n",
            "_________________________________________________________________\n",
            "max_pooling2d_2 (MaxPooling2 (None, 1, 1, 128)         0         \n",
            "_________________________________________________________________\n",
            "flatten (Flatten)            (None, 128)               0         \n",
            "_________________________________________________________________\n",
            "dense (Dense)                (None, 512)               66048     \n",
            "_________________________________________________________________\n",
            "dense_1 (Dense)              (None, 7)                 3591      \n",
            "=================================================================\n",
            "Total params: 162,887\n",
            "Trainable params: 162,887\n",
            "Non-trainable params: 0\n",
            "_________________________________________________________________\n",
            "None\n"
          ],
          "name": "stdout"
        }
      ]
    },
    {
      "cell_type": "code",
      "metadata": {
        "colab": {
          "base_uri": "https://localhost:8080/"
        },
        "id": "-u323kt8FZ-q",
        "outputId": "eb2d591c-a5f5-48ba-f974-0ef954df17ec"
      },
      "source": [
        "model.compile(optimizer='rmsprop',loss='categorical_crossentropy',metrics=['accuracy'])\r\n",
        "history=model.fit(x=x_train_n,y=y_train_n,verbose=1,batch_size=128,epochs=20,shuffle='True',validation_data=(x_test_n,y_test_n))"
      ],
      "execution_count": null,
      "outputs": [
        {
          "output_type": "stream",
          "text": [
            "Epoch 1/20\n",
            "71/71 [==============================] - 8s 114ms/step - loss: 1.1028 - accuracy: 0.6620 - val_loss: 1.1004 - val_accuracy: 0.6357\n",
            "Epoch 2/20\n",
            "71/71 [==============================] - 9s 128ms/step - loss: 0.9605 - accuracy: 0.6717 - val_loss: 0.9138 - val_accuracy: 0.6796\n",
            "Epoch 3/20\n",
            "71/71 [==============================] - 9s 122ms/step - loss: 0.9102 - accuracy: 0.6820 - val_loss: 1.0216 - val_accuracy: 0.6627\n",
            "Epoch 4/20\n",
            "71/71 [==============================] - 8s 111ms/step - loss: 0.9017 - accuracy: 0.6788 - val_loss: 0.8805 - val_accuracy: 0.6906\n",
            "Epoch 5/20\n",
            "71/71 [==============================] - 8s 111ms/step - loss: 0.8714 - accuracy: 0.6860 - val_loss: 0.8521 - val_accuracy: 0.6906\n",
            "Epoch 6/20\n",
            "71/71 [==============================] - 8s 111ms/step - loss: 0.8597 - accuracy: 0.6887 - val_loss: 0.9163 - val_accuracy: 0.6826\n",
            "Epoch 7/20\n",
            "71/71 [==============================] - 8s 111ms/step - loss: 0.8386 - accuracy: 0.6956 - val_loss: 0.8667 - val_accuracy: 0.6876\n",
            "Epoch 8/20\n",
            "71/71 [==============================] - 8s 111ms/step - loss: 0.8168 - accuracy: 0.7003 - val_loss: 0.7958 - val_accuracy: 0.7066\n",
            "Epoch 9/20\n",
            "71/71 [==============================] - 8s 110ms/step - loss: 0.7987 - accuracy: 0.7090 - val_loss: 0.8418 - val_accuracy: 0.7076\n",
            "Epoch 10/20\n",
            "71/71 [==============================] - 8s 110ms/step - loss: 0.7698 - accuracy: 0.7133 - val_loss: 0.7767 - val_accuracy: 0.7136\n",
            "Epoch 11/20\n",
            "71/71 [==============================] - 8s 112ms/step - loss: 0.7573 - accuracy: 0.7181 - val_loss: 0.8530 - val_accuracy: 0.7196\n",
            "Epoch 12/20\n",
            "71/71 [==============================] - 8s 111ms/step - loss: 0.7424 - accuracy: 0.7241 - val_loss: 0.8946 - val_accuracy: 0.7126\n",
            "Epoch 13/20\n",
            "71/71 [==============================] - 8s 111ms/step - loss: 0.7268 - accuracy: 0.7303 - val_loss: 0.8120 - val_accuracy: 0.6796\n",
            "Epoch 14/20\n",
            "71/71 [==============================] - 8s 110ms/step - loss: 0.7179 - accuracy: 0.7342 - val_loss: 0.8689 - val_accuracy: 0.7046\n",
            "Epoch 15/20\n",
            "71/71 [==============================] - 8s 112ms/step - loss: 0.7111 - accuracy: 0.7341 - val_loss: 0.7754 - val_accuracy: 0.7076\n",
            "Epoch 16/20\n",
            "71/71 [==============================] - 8s 111ms/step - loss: 0.6913 - accuracy: 0.7418 - val_loss: 0.7230 - val_accuracy: 0.7216\n",
            "Epoch 17/20\n",
            "71/71 [==============================] - 8s 110ms/step - loss: 0.6897 - accuracy: 0.7425 - val_loss: 0.7713 - val_accuracy: 0.7176\n",
            "Epoch 18/20\n",
            "71/71 [==============================] - 8s 111ms/step - loss: 0.6693 - accuracy: 0.7450 - val_loss: 0.8704 - val_accuracy: 0.7056\n",
            "Epoch 19/20\n",
            "71/71 [==============================] - 8s 111ms/step - loss: 0.6650 - accuracy: 0.7526 - val_loss: 0.7486 - val_accuracy: 0.7255\n",
            "Epoch 20/20\n",
            "71/71 [==============================] - 8s 111ms/step - loss: 0.6600 - accuracy: 0.7530 - val_loss: 0.7256 - val_accuracy: 0.7495\n"
          ],
          "name": "stdout"
        }
      ]
    },
    {
      "cell_type": "code",
      "metadata": {
        "colab": {
          "base_uri": "https://localhost:8080/",
          "height": 312
        },
        "id": "z87t3WMCFaBs",
        "outputId": "eb0cafa6-bbb3-4e0a-cf03-00bd096bdd73"
      },
      "source": [
        "plt.plot(history.history['loss'])\r\n",
        "plt.plot(history.history['val_loss'])\r\n",
        "plt.title('loss')\r\n",
        "plt.xlabel('epochs')\r\n",
        "plt.legend(['training','validation'])"
      ],
      "execution_count": null,
      "outputs": [
        {
          "output_type": "execute_result",
          "data": {
            "text/plain": [
              "<matplotlib.legend.Legend at 0x7fdc31a9ec88>"
            ]
          },
          "metadata": {
            "tags": []
          },
          "execution_count": 67
        },
        {
          "output_type": "display_data",
          "data": {
            "image/png": "[encoded data removed]",
            "text/plain": [
              "<Figure size 432x288 with 1 Axes>"
            ]
          },
          "metadata": {
            "tags": [],
            "needs_background": "light"
          }
        }
      ]
    },
    {
      "cell_type": "code",
      "metadata": {
        "colab": {
          "base_uri": "https://localhost:8080/",
          "height": 229
        },
        "id": "KVGN9PY9FaEX",
        "outputId": "3e5d6a39-9241-42ff-a770-426625c2e482"
      },
      "source": [
        "plt.plot(history.history['acc'])\r\n",
        "plt.plot(history.history['val_acc'])\r\n",
        "plt.title('accuracy')\r\n",
        "plt.xlabel('epochs')\r\n",
        "plt.legend(['training','validation'])"
      ],
      "execution_count": null,
      "outputs": [
        {
          "output_type": "error",
          "ename": "KeyError",
          "evalue": "ignored",
          "traceback": [
            "\u001b[0;31m---------------------------------------------------------------------------\u001b[0m",
            "\u001b[0;31mKeyError\u001b[0m                                  Traceback (most recent call last)",
            "\u001b[0;32m<ipython-input-71-3edc5264c901>\u001b[0m in \u001b[0;36m<module>\u001b[0;34m()\u001b[0m\n\u001b[0;32m----> 1\u001b[0;31m \u001b[0mplt\u001b[0m\u001b[0;34m.\u001b[0m\u001b[0mplot\u001b[0m\u001b[0;34m(\u001b[0m\u001b[0mhistory\u001b[0m\u001b[0;34m.\u001b[0m\u001b[0mhistory\u001b[0m\u001b[0;34m[\u001b[0m\u001b[0;34m'acc'\u001b[0m\u001b[0;34m]\u001b[0m\u001b[0;34m)\u001b[0m\u001b[0;34m\u001b[0m\u001b[0;34m\u001b[0m\u001b[0m\n\u001b[0m\u001b[1;32m      2\u001b[0m \u001b[0mplt\u001b[0m\u001b[0;34m.\u001b[0m\u001b[0mplot\u001b[0m\u001b[0;34m(\u001b[0m\u001b[0mhistory\u001b[0m\u001b[0;34m.\u001b[0m\u001b[0mhistory\u001b[0m\u001b[0;34m[\u001b[0m\u001b[0;34m'val_acc'\u001b[0m\u001b[0;34m]\u001b[0m\u001b[0;34m)\u001b[0m\u001b[0;34m\u001b[0m\u001b[0;34m\u001b[0m\u001b[0m\n\u001b[1;32m      3\u001b[0m \u001b[0mplt\u001b[0m\u001b[0;34m.\u001b[0m\u001b[0mtitle\u001b[0m\u001b[0;34m(\u001b[0m\u001b[0;34m'accuracy'\u001b[0m\u001b[0;34m)\u001b[0m\u001b[0;34m\u001b[0m\u001b[0;34m\u001b[0m\u001b[0m\n\u001b[1;32m      4\u001b[0m \u001b[0mplt\u001b[0m\u001b[0;34m.\u001b[0m\u001b[0mxlabel\u001b[0m\u001b[0;34m(\u001b[0m\u001b[0;34m'epochs'\u001b[0m\u001b[0;34m)\u001b[0m\u001b[0;34m\u001b[0m\u001b[0;34m\u001b[0m\u001b[0m\n\u001b[1;32m      5\u001b[0m \u001b[0mplt\u001b[0m\u001b[0;34m.\u001b[0m\u001b[0mlegend\u001b[0m\u001b[0;34m(\u001b[0m\u001b[0;34m[\u001b[0m\u001b[0;34m'training'\u001b[0m\u001b[0;34m,\u001b[0m\u001b[0;34m'validation'\u001b[0m\u001b[0;34m]\u001b[0m\u001b[0;34m)\u001b[0m\u001b[0;34m\u001b[0m\u001b[0;34m\u001b[0m\u001b[0m\n",
            "\u001b[0;31mKeyError\u001b[0m: 'acc'"
          ]
        }
      ]
    },
    {
      "cell_type": "code",
      "metadata": {
        "colab": {
          "base_uri": "https://localhost:8080/"
        },
        "id": "Viou9pQDFaG5",
        "outputId": "40f240a2-7437-44ad-bd1f-f23f79ea0df2"
      },
      "source": [
        "score=model.evaluate(x_test_n,y_test_n,verbose=0)\r\n",
        "print(\" test score: {} \".format(score[0]))\r\n",
        "print(\"test accuracy: {}\".format(score[1]))"
      ],
      "execution_count": null,
      "outputs": [
        {
          "output_type": "stream",
          "text": [
            " test score: 0.7256481647491455 \n",
            "test accuracy: 0.7495009899139404\n"
          ],
          "name": "stdout"
        }
      ]
    },
    {
      "cell_type": "code",
      "metadata": {
        "id": "J79wWd2OFaJ7"
      },
      "source": [
        ""
      ],
      "execution_count": null,
      "outputs": []
    },
    {
      "cell_type": "code",
      "metadata": {
        "id": "GM1570PyFaM2"
      },
      "source": [
        ""
      ],
      "execution_count": null,
      "outputs": []
    },
    {
      "cell_type": "code",
      "metadata": {
        "id": "NB0VodpDFaPO"
      },
      "source": [
        ""
      ],
      "execution_count": null,
      "outputs": []
    },
    {
      "cell_type": "code",
      "metadata": {
        "id": "cygCFe3T-yeF"
      },
      "source": [
        ""
      ],
      "execution_count": null,
      "outputs": []
    }
  ]
}